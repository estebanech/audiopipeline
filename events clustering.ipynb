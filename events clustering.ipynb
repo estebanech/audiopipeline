{
 "cells": [
  {
   "cell_type": "code",
   "execution_count": null,
   "id": "17b8cc48",
   "metadata": {},
   "outputs": [],
   "source": [
    "from boto3.session import Session\n",
    "import boto3\n",
    "import scipy.io.wavfile as sciwav\n",
    "from pydub import AudioSegment\n",
    "import math\n",
    "import os\n",
    "import shutil\n",
    "from io import BytesIO\n",
    "from unsilence import Unsilence\n",
    "import librosa\n",
    "import os\n",
    "import numpy as np\n",
    "import sklearn\n",
    "from sklearn import metrics\n",
    "from sklearn.cluster import DBSCAN\n",
    "from sklearn.preprocessing import StandardScaler"
   ]
  },
  {
   "cell_type": "code",
   "execution_count": null,
   "id": "3edf2ea1",
   "metadata": {},
   "outputs": [],
   "source": [
    "ACCESS_KEY = \"\"\n",
    "SECRET_KEY = \"\"\n",
    "events_bucket_name = 'audiopipelineeventstest'\n",
    "session = Session(aws_access_key_id=ACCESS_KEY,\n",
    "              aws_secret_access_key=SECRET_KEY)\n",
    "\n",
    "\n",
    "s3 = session.resource('s3')\n",
    "events_bucket = s3.Bucket(events_bucket_name)"
   ]
  },
  {
   "cell_type": "code",
   "execution_count": null,
   "id": "d9277fce",
   "metadata": {},
   "outputs": [],
   "source": [
    "S3_info = []\n",
    "for s3_file in events_bucket.objects.all():\n",
    "    #print(s3_file.key)\n",
    "    object = s3.Object(events_bucket_name, s3_file.key)\n",
    "    result = object.get()['Body'].read()\n",
    "    wrapper = BytesIO(result)\n",
    "    S3_info.append(wrapper)"
   ]
  },
  {
   "cell_type": "code",
   "execution_count": null,
   "id": "6383ad46",
   "metadata": {},
   "outputs": [],
   "source": [
    "print(len(S3_info))"
   ]
  },
  {
   "cell_type": "code",
   "execution_count": null,
   "id": "67c8dbce",
   "metadata": {},
   "outputs": [],
   "source": [
    "original= []\n",
    "for sample in S3_info:\n",
    "    y, sr = librosa.load(sample)\n",
    "    original.append((y,sr))"
   ]
  },
  {
   "cell_type": "code",
   "execution_count": null,
   "id": "b770f433",
   "metadata": {},
   "outputs": [],
   "source": [
    "mfcc = []\n",
    "for elem in original:\n",
    "    mfcc.append(librosa.feature.mfcc(elem[0],elem[1],n_mfcc=12))"
   ]
  },
  {
   "cell_type": "code",
   "execution_count": null,
   "id": "21276130",
   "metadata": {},
   "outputs": [],
   "source": [
    "# mfcc"
   ]
  },
  {
   "cell_type": "code",
   "execution_count": null,
   "id": "d043ba7b",
   "metadata": {},
   "outputs": [],
   "source": [
    "mfcc_avg = []\n",
    "for elem in mfcc:   \n",
    "    avgFeatures = []\n",
    "    for i in range(len(elem)):\n",
    "        avgFeatures.append(numpy.mean(elem[i]))\n",
    "    mfcc_avg.append(avgFeatures)"
   ]
  },
  {
   "cell_type": "code",
   "execution_count": null,
   "id": "731014ed",
   "metadata": {},
   "outputs": [],
   "source": [
    "#mfcc_avg"
   ]
  },
  {
   "cell_type": "code",
   "execution_count": null,
   "id": "9260ec7d",
   "metadata": {},
   "outputs": [],
   "source": [
    "X = StandardScaler().fit_transform(mfcc_avg)"
   ]
  },
  {
   "cell_type": "code",
   "execution_count": null,
   "id": "af3e0494",
   "metadata": {},
   "outputs": [],
   "source": [
    "len(X)"
   ]
  },
  {
   "cell_type": "code",
   "execution_count": null,
   "id": "809088da",
   "metadata": {},
   "outputs": [],
   "source": [
    "db = DBSCAN(eps=1.7).fit(X)"
   ]
  },
  {
   "cell_type": "code",
   "execution_count": null,
   "id": "e4594069",
   "metadata": {},
   "outputs": [],
   "source": [
    "core_samples_mask = np.zeros_like(db.labels_, dtype=bool)\n",
    "core_samples_mask[db.core_sample_indices_] = True\n",
    "labels = db.labels_"
   ]
  },
  {
   "cell_type": "code",
   "execution_count": null,
   "id": "59aa9fc5",
   "metadata": {},
   "outputs": [],
   "source": [
    "# Number of clusters in labels, ignoring noise if present.\n",
    "n_clusters_ = len(set(labels)) - (1 if -1 in labels else 0)\n",
    "n_noise_ = list(labels).count(-1)\n",
    "\n",
    "print(\"Estimated number of clusters: %d\" % n_clusters_)\n",
    "print(\"Estimated number of noise points: %d\" % n_noise_)"
   ]
  },
  {
   "cell_type": "code",
   "execution_count": null,
   "id": "e5c97f9a",
   "metadata": {},
   "outputs": [],
   "source": [
    "print(\"Silhouette Coefficient: %0.10f\" % metrics.silhouette_score(X, labels))"
   ]
  },
  {
   "cell_type": "code",
   "execution_count": null,
   "id": "825a07a0",
   "metadata": {},
   "outputs": [],
   "source": [
    "print(db.labels_)"
   ]
  }
 ],
 "metadata": {
  "kernelspec": {
   "display_name": "Python 3 (ipykernel)",
   "language": "python",
   "name": "python3"
  },
  "language_info": {
   "codemirror_mode": {
    "name": "ipython",
    "version": 3
   },
   "file_extension": ".py",
   "mimetype": "text/x-python",
   "name": "python",
   "nbconvert_exporter": "python",
   "pygments_lexer": "ipython3",
   "version": "3.8.5"
  }
 },
 "nbformat": 4,
 "nbformat_minor": 5
}
